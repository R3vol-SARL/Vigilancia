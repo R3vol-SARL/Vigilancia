{
 "cells": [
  {
   "cell_type": "code",
   "execution_count": 1,
   "metadata": {
    "collapsed": false
   },
   "outputs": [
    {
     "name": "stderr",
     "output_type": "stream",
     "text": [
      "/home/yash/.local/lib/python3.5/site-packages/h5py/__init__.py:36: FutureWarning: Conversion of the second argument of issubdtype from `float` to `np.floating` is deprecated. In future, it will be treated as `np.float64 == np.dtype(float).type`.\n",
      "  from ._conv import register_converters as _register_converters\n"
     ]
    }
   ],
   "source": [
    "import tflearn, os\n",
    "from tflearn.data_preprocessing import ImagePreprocessing\n",
    "from tflearn.data_utils import image_preloader"
   ]
  },
  {
   "cell_type": "code",
   "execution_count": 2,
   "metadata": {
    "collapsed": true
   },
   "outputs": [],
   "source": [
    "def vgg16(input = 224*224*3, num_class = 1000):\n",
    "    \n",
    "    x = tflearn.conv_2d(input, 64, 3, activation='relu', scope='conv1_1')\n",
    "    x = tflearn.conv_2d(x, 64, 3, activation='relu', scope='conv1_2')\n",
    "    x = tflearn.max_pool_2d(x, 2, strides=2, name='maxpool1')\n",
    "\n",
    "    x = tflearn.conv_2d(x, 128, 3, activation='relu', scope='conv2_1')\n",
    "    x = tflearn.conv_2d(x, 128, 3, activation='relu', scope='conv2_2')\n",
    "    x = tflearn.max_pool_2d(x, 2, strides=2, name='maxpool2')\n",
    "\n",
    "    x = tflearn.conv_2d(x, 256, 3, activation='relu', scope='conv3_1')\n",
    "    x = tflearn.conv_2d(x, 256, 3, activation='relu', scope='conv3_2')\n",
    "    x = tflearn.conv_2d(x, 256, 3, activation='relu', scope='conv3_3')\n",
    "    x = tflearn.max_pool_2d(x, 2, strides=2, name='maxpool3')\n",
    "\n",
    "    x = tflearn.conv_2d(x, 512, 3, activation='relu', scope='conv4_1')\n",
    "    x = tflearn.conv_2d(x, 512, 3, activation='relu', scope='conv4_2')\n",
    "    x = tflearn.conv_2d(x, 512, 3, activation='relu', scope='conv4_3')\n",
    "    x = tflearn.max_pool_2d(x, 2, strides=2, name='maxpool4')\n",
    "\n",
    "    x = tflearn.conv_2d(x, 512, 3, activation='relu', scope='conv5_1')\n",
    "    x = tflearn.conv_2d(x, 512, 3, activation='relu', scope='conv5_2')\n",
    "    x = tflearn.conv_2d(x, 512, 3, activation='relu', scope='conv5_3')\n",
    "    x = tflearn.max_pool_2d(x, 2, strides=2, name='maxpool5')\n",
    "\n",
    "    #x = tflearn.fully_connected(x, 4096, activation='relu', scope='fc6')\n",
    "\n",
    "    #x = tflearn.fully_connected(x, 4096, activation='relu', scope='fc7')\n",
    "\n",
    "    #x = tflearn.fully_connected(x, num_class, activation='softmax', scope='fc8',restore=False)\n",
    "    #x Should now contain Conv5 feature maps as required \n",
    "    # FC6 and FC7 should be inserted ROI pooling and should be given input of ROI pooling \n",
    "    # no of neurons in output layer of fc7 will depend on the task to be accomplished 4096 is placeholder\n",
    "                                \n",
    "\n",
    "    return x"
   ]
  },
  {
   "cell_type": "code",
   "execution_count": null,
   "metadata": {
    "collapsed": true
   },
   "outputs": [],
   "source": [
    "def ROI_pooling():\n",
    "  # GPU only implementations\n",
    "    \n",
    "    "
   ]
  }
 ],
 "metadata": {
  "kernelspec": {
   "display_name": "Python 3",
   "language": "python",
   "name": "python3"
  },
  "language_info": {
   "codemirror_mode": {
    "name": "ipython",
    "version": 3
   },
   "file_extension": ".py",
   "mimetype": "text/x-python",
   "name": "python",
   "nbconvert_exporter": "python",
   "pygments_lexer": "ipython3",
   "version": "3.5.2"
  }
 },
 "nbformat": 4,
 "nbformat_minor": 0
}
